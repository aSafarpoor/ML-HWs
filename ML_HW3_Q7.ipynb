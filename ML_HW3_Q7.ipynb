{
  "nbformat": 4,
  "nbformat_minor": 0,
  "metadata": {
    "colab": {
      "name": "ML - HW3 Q7 - Copy.ipynb",
      "provenance": [],
      "collapsed_sections": []
    },
    "kernelspec": {
      "name": "python3",
      "display_name": "Python 3"
    },
    "language_info": {
      "name": "python"
    }
  },
  "cells": [
    {
      "cell_type": "code",
      "execution_count": 1,
      "metadata": {
        "id": "mcxLPH6xWexd"
      },
      "outputs": [],
      "source": [
        "import pandas as pd\n",
        "import string\n",
        "import numpy as np\n",
        "import matplotlib.pyplot as plt\n",
        "import nltk\n",
        "from pandas import DataFrame\n",
        "from string import punctuation\n",
        "# import statistics\n",
        "from math import log2\n",
        "import re\n",
        "from collections import Counter\n",
        "from nltk.tokenize import RegexpTokenizer\n",
        "from nltk.stem import WordNetLemmatizer\n",
        "from nltk import word_tokenize,pos_tag"
      ]
    },
    {
      "cell_type": "code",
      "source": [
        "nltk.download('punkt')\n",
        "nltk.download('averaged_perceptron_tagger')\n",
        "nltk.download('wordnet')"
      ],
      "metadata": {
        "colab": {
          "base_uri": "https://localhost:8080/"
        },
        "id": "gXjW2mmUqhOZ",
        "outputId": "d48a6d97-87cc-444c-fb5e-cdd3bbe85928"
      },
      "execution_count": 2,
      "outputs": [
        {
          "output_type": "stream",
          "name": "stdout",
          "text": [
            "[nltk_data] Downloading package punkt to /root/nltk_data...\n",
            "[nltk_data]   Package punkt is already up-to-date!\n",
            "[nltk_data] Downloading package averaged_perceptron_tagger to\n",
            "[nltk_data]     /root/nltk_data...\n",
            "[nltk_data]   Package averaged_perceptron_tagger is already up-to-\n",
            "[nltk_data]       date!\n",
            "[nltk_data] Downloading package wordnet to /root/nltk_data...\n",
            "[nltk_data]   Package wordnet is already up-to-date!\n"
          ]
        },
        {
          "output_type": "execute_result",
          "data": {
            "text/plain": [
              "True"
            ]
          },
          "metadata": {},
          "execution_count": 2
        }
      ]
    },
    {
      "cell_type": "markdown",
      "source": [
        "#Classifier by features"
      ],
      "metadata": {
        "id": "_qgou9gZ3943"
      }
    },
    {
      "cell_type": "code",
      "metadata": {
        "colab": {
          "base_uri": "https://localhost:8080/"
        },
        "outputId": "3b0b2ac4-84c7-4f79-a034-5daf69532bd2",
        "id": "00KOPV1L35yQ"
      },
      "source": [
        "!wget https://github.com/aSafarpoor/open_repo_storhouse_for_nlp_Quran/raw/main/data.zip"
      ],
      "execution_count": 3,
      "outputs": [
        {
          "output_type": "stream",
          "name": "stdout",
          "text": [
            "--2021-12-10 15:48:29--  https://github.com/aSafarpoor/open_repo_storhouse_for_nlp_Quran/raw/main/data.zip\n",
            "Resolving github.com (github.com)... 140.82.112.4\n",
            "Connecting to github.com (github.com)|140.82.112.4|:443... connected.\n",
            "HTTP request sent, awaiting response... 302 Found\n",
            "Location: https://raw.githubusercontent.com/aSafarpoor/open_repo_storhouse_for_nlp_Quran/main/data.zip [following]\n",
            "--2021-12-10 15:48:29--  https://raw.githubusercontent.com/aSafarpoor/open_repo_storhouse_for_nlp_Quran/main/data.zip\n",
            "Resolving raw.githubusercontent.com (raw.githubusercontent.com)... 185.199.109.133, 185.199.110.133, 185.199.111.133, ...\n",
            "Connecting to raw.githubusercontent.com (raw.githubusercontent.com)|185.199.109.133|:443... connected.\n",
            "HTTP request sent, awaiting response... 200 OK\n",
            "Length: 211042 (206K) [application/zip]\n",
            "Saving to: ‘data.zip.2’\n",
            "\n",
            "data.zip.2          100%[===================>] 206.10K  --.-KB/s    in 0.003s  \n",
            "\n",
            "2021-12-10 15:48:29 (65.8 MB/s) - ‘data.zip.2’ saved [211042/211042]\n",
            "\n"
          ]
        }
      ]
    },
    {
      "cell_type": "code",
      "source": [
        "! unzip data.zip "
      ],
      "metadata": {
        "colab": {
          "base_uri": "https://localhost:8080/"
        },
        "id": "G9gMEh7Cocqv",
        "outputId": "a32cd211-6f37-4183-eb44-fc8277e05d77"
      },
      "execution_count": 4,
      "outputs": [
        {
          "output_type": "stream",
          "name": "stdout",
          "text": [
            "Archive:  data.zip\n",
            "replace sample_output.csv? [y]es, [n]o, [A]ll, [N]one, [r]ename: A\n",
            "  inflating: sample_output.csv       \n",
            "  inflating: train_test.csv          \n",
            "  inflating: evaluate.csv            \n"
          ]
        }
      ]
    },
    {
      "cell_type": "code",
      "source": [
        "! ls"
      ],
      "metadata": {
        "colab": {
          "base_uri": "https://localhost:8080/"
        },
        "id": "WIA3WPpjos1p",
        "outputId": "5f423c94-eaae-4e8f-c88b-92d4b58973b8"
      },
      "execution_count": 5,
      "outputs": [
        {
          "output_type": "stream",
          "name": "stdout",
          "text": [
            "99210323_eval_output_Features.csv  data.zip.2\t sample_data\n",
            "data.zip\t\t\t   eval.csv\t sample_output.csv\n",
            "data.zip.1\t\t\t   evaluate.csv  train_test.csv\n"
          ]
        }
      ]
    },
    {
      "cell_type": "code",
      "source": [
        "data = pd.read_csv('train_test.csv') #Read Dataset for features\n",
        "# data_f = data_f.rename(columns={\"type\": \"type1\", \"text\":\"text1\"})\n",
        "data.head()"
      ],
      "metadata": {
        "colab": {
          "base_uri": "https://localhost:8080/",
          "height": 206
        },
        "id": "TW7y97TNoaWq",
        "outputId": "3ab0f652-2974-4e78-eaec-0aecfa04fd64"
      },
      "execution_count": 6,
      "outputs": [
        {
          "output_type": "execute_result",
          "data": {
            "text/html": [
              "<div>\n",
              "<style scoped>\n",
              "    .dataframe tbody tr th:only-of-type {\n",
              "        vertical-align: middle;\n",
              "    }\n",
              "\n",
              "    .dataframe tbody tr th {\n",
              "        vertical-align: top;\n",
              "    }\n",
              "\n",
              "    .dataframe thead th {\n",
              "        text-align: right;\n",
              "    }\n",
              "</style>\n",
              "<table border=\"1\" class=\"dataframe\">\n",
              "  <thead>\n",
              "    <tr style=\"text-align: right;\">\n",
              "      <th></th>\n",
              "      <th>type</th>\n",
              "      <th>text</th>\n",
              "    </tr>\n",
              "  </thead>\n",
              "  <tbody>\n",
              "    <tr>\n",
              "      <th>0</th>\n",
              "      <td>ham</td>\n",
              "      <td>Fighting with the world is easy, u either win ...</td>\n",
              "    </tr>\n",
              "    <tr>\n",
              "      <th>1</th>\n",
              "      <td>ham</td>\n",
              "      <td>When can Ì_ come out?</td>\n",
              "    </tr>\n",
              "    <tr>\n",
              "      <th>2</th>\n",
              "      <td>ham</td>\n",
              "      <td>Check with nuerologist.</td>\n",
              "    </tr>\n",
              "    <tr>\n",
              "      <th>3</th>\n",
              "      <td>ham</td>\n",
              "      <td>Lolnice. I went from a fish to ..water.?</td>\n",
              "    </tr>\n",
              "    <tr>\n",
              "      <th>4</th>\n",
              "      <td>spam</td>\n",
              "      <td>+123 Congratulations - in this week's competit...</td>\n",
              "    </tr>\n",
              "  </tbody>\n",
              "</table>\n",
              "</div>"
            ],
            "text/plain": [
              "   type                                               text\n",
              "0   ham  Fighting with the world is easy, u either win ...\n",
              "1   ham                              When can Ì_ come out?\n",
              "2   ham                            Check with nuerologist.\n",
              "3   ham           Lolnice. I went from a fish to ..water.?\n",
              "4  spam  +123 Congratulations - in this week's competit..."
            ]
          },
          "metadata": {},
          "execution_count": 6
        }
      ]
    },
    {
      "cell_type": "code",
      "source": [
        "# data_f['type'].value_counts(normalize=True)"
      ],
      "metadata": {
        "id": "2vyr2L5m35yT"
      },
      "execution_count": 7,
      "outputs": []
    },
    {
      "cell_type": "code",
      "source": [
        "train_ratio = 0.8\n",
        "data_2 = data.sample(frac=1, random_state=1)\n",
        "training_test_index = round(len(data_2) * train_ratio)\n",
        "train = data_2[:training_test_index].reset_index(drop=True)\n",
        "test = data_2[training_test_index:].reset_index(drop=True)\n",
        "print('train: ',train.shape,'\\ntest: ',test.shape)"
      ],
      "metadata": {
        "colab": {
          "base_uri": "https://localhost:8080/"
        },
        "outputId": "bc56fcb8-0755-4909-c835-1fc87c400eb5",
        "id": "4ddk3Vk_35yU"
      },
      "execution_count": 8,
      "outputs": [
        {
          "output_type": "stream",
          "name": "stdout",
          "text": [
            "train:  (4058, 2) \n",
            "test:  (1014, 2)\n"
          ]
        }
      ]
    },
    {
      "cell_type": "code",
      "source": [
        "x = train['type'].value_counts(normalize=True)\n",
        "x.ham , x.spam "
      ],
      "metadata": {
        "colab": {
          "base_uri": "https://localhost:8080/"
        },
        "outputId": "d3567d00-e238-4376-883f-bc8a7e9e10da",
        "id": "OZJvfjoR35yV"
      },
      "execution_count": 9,
      "outputs": [
        {
          "output_type": "execute_result",
          "data": {
            "text/plain": [
              "(0.8639724001971415, 0.13602759980285856)"
            ]
          },
          "metadata": {},
          "execution_count": 9
        }
      ]
    },
    {
      "cell_type": "code",
      "source": [
        "y = test['type'].value_counts(normalize=True)\n",
        "y.ham , y.spam"
      ],
      "metadata": {
        "colab": {
          "base_uri": "https://localhost:8080/"
        },
        "outputId": "5f323598-cde8-497e-c67a-7f7aa1d4ae6a",
        "id": "Kj-f7bH435yW"
      },
      "execution_count": 10,
      "outputs": [
        {
          "output_type": "execute_result",
          "data": {
            "text/plain": [
              "(0.8777120315581854, 0.1222879684418146)"
            ]
          },
          "metadata": {},
          "execution_count": 10
        }
      ]
    },
    {
      "cell_type": "code",
      "source": [
        "int(100*x.spam/(x.spam+x.ham)) , int(100*y.spam/(y.spam+y.ham)) "
      ],
      "metadata": {
        "colab": {
          "base_uri": "https://localhost:8080/"
        },
        "id": "0ZpckqDF6NJF",
        "outputId": "afda73a8-9d67-476a-d049-cff7dac283e4"
      },
      "execution_count": 11,
      "outputs": [
        {
          "output_type": "execute_result",
          "data": {
            "text/plain": [
              "(13, 12)"
            ]
          },
          "metadata": {},
          "execution_count": 11
        }
      ]
    },
    {
      "cell_type": "markdown",
      "source": [
        "## preprocessing using NLTK"
      ],
      "metadata": {
        "id": "t9n7C1GckV3M"
      }
    },
    {
      "cell_type": "markdown",
      "source": [
        "normalization"
      ],
      "metadata": {
        "id": "cwam9JkHq8Mn"
      }
    },
    {
      "cell_type": "code",
      "source": [
        "org_train = train"
      ],
      "metadata": {
        "id": "ekBUo_BIs2Ot"
      },
      "execution_count": 12,
      "outputs": []
    },
    {
      "cell_type": "code",
      "source": [
        "#functions:\n",
        "def remove_whitespace(text):\n",
        "    return  \" \".join(text.split())\n",
        "def lower_ratio(text):\n",
        "    return sum(map(str.islower, text))/(len(text)+1)\n",
        "def punctuation_ration(text):\n",
        "    tokenizer = RegexpTokenizer(r\"\\w+\")\n",
        "    text1=tokenizer.tokenize(' '.join(text.split()))\n",
        "    return round((len(text)-len(text1))/(len(text)+1),2)\n",
        "def href_ratio(text):\n",
        "    url_pattern = re.compile(r'https?://\\S+|www\\.\\S+')\n",
        "    x = url_pattern.sub(r'', text)\n",
        "    return round((len(text)-len(x))/(len(text)+1),2) \n",
        "def number_ratio(text):\n",
        "    x = re.sub(r'\\d+', '', text)\n",
        "    return (len(text)-len(x))/(len(text)+1)\n",
        "def count_alphabet(text):\n",
        "    count = 0\n",
        "    alph = string.ascii_lowercase\n",
        "    for ch in text:\n",
        "        if ch in alph:\n",
        "            count = count + 1\n",
        "    return count\n",
        "def num_of_sentences(text):\n",
        "  sentences = nltk.sent_tokenize(text)\n",
        "  return len(sentences)\n",
        "def num_of_words_per_sentence_avg(text):\n",
        "  sentences = nltk.sent_tokenize(text)\n",
        "  c = 1\n",
        "  sum_ = 0\n",
        "  for sentence in sentences:\n",
        "    sum_ += len(nltk.word_tokenize(sentence))\n",
        "    c += 1\n",
        "  return round(sum_/c,2) \n"
      ],
      "metadata": {
        "colab": {
          "base_uri": "https://localhost:8080/"
        },
        "id": "ODEJxw8mrBR2",
        "outputId": "e77fef1f-0424-45ff-b738-835786a5d9b4"
      },
      "execution_count": 13,
      "outputs": [
        {
          "output_type": "stream",
          "name": "stdout",
          "text": [
            "0.82\n"
          ]
        }
      ]
    },
    {
      "cell_type": "code",
      "source": [
        "def normalizer(df):\n",
        "  df['lowerRatio'] = df['text'].apply(lower_ratio)\n",
        "  df['puctuationRatio'] = df['text'].apply(punctuation_ration)\n",
        "  df['hrefRatio'] = df['text'].apply(href_ratio)\n",
        "  df['numberRatio'] = df['text'].apply(number_ratio)\n",
        "  df['normalized'] = df['text'].str.lower()\n",
        "  df['normalized'] = df['normalized'].apply(remove_whitespace)\n",
        "  df['count_alphabet'] = df['normalized'].apply(lambda text : count_alphabet(text))\n",
        "  df['num_of_sentences'] = df['normalized'].apply(num_of_sentences)\n",
        "  df['num_of_words_per_sentence_avg'] = df['normalized'].apply(num_of_sentences)\n",
        "\n",
        "  return df\n",
        "\n",
        "# train = org_train\n",
        "train = normalizer(train)\n",
        "train.head()"
      ],
      "metadata": {
        "colab": {
          "base_uri": "https://localhost:8080/",
          "height": 556
        },
        "id": "mBQWc5fRrU9O",
        "outputId": "ef6cbc45-1cea-4227-f272-b914dac28cd1"
      },
      "execution_count": 14,
      "outputs": [
        {
          "output_type": "execute_result",
          "data": {
            "text/html": [
              "<div>\n",
              "<style scoped>\n",
              "    .dataframe tbody tr th:only-of-type {\n",
              "        vertical-align: middle;\n",
              "    }\n",
              "\n",
              "    .dataframe tbody tr th {\n",
              "        vertical-align: top;\n",
              "    }\n",
              "\n",
              "    .dataframe thead th {\n",
              "        text-align: right;\n",
              "    }\n",
              "</style>\n",
              "<table border=\"1\" class=\"dataframe\">\n",
              "  <thead>\n",
              "    <tr style=\"text-align: right;\">\n",
              "      <th></th>\n",
              "      <th>type</th>\n",
              "      <th>text</th>\n",
              "      <th>lowerRatio</th>\n",
              "      <th>puctuationRatio</th>\n",
              "      <th>hrefRatio</th>\n",
              "      <th>numberRatio</th>\n",
              "      <th>normalized</th>\n",
              "      <th>count_alphabet</th>\n",
              "      <th>num_of_sentences</th>\n",
              "      <th>num_of_words_per_sentence_avg</th>\n",
              "    </tr>\n",
              "  </thead>\n",
              "  <tbody>\n",
              "    <tr>\n",
              "      <th>0</th>\n",
              "      <td>ham</td>\n",
              "      <td>Watch lor. I saw a few swatch one i thk quite ...</td>\n",
              "      <td>0.636364</td>\n",
              "      <td>0.76</td>\n",
              "      <td>0.0</td>\n",
              "      <td>0.045455</td>\n",
              "      <td>watch lor. i saw a few swatch one i thk quite ...</td>\n",
              "      <td>59</td>\n",
              "      <td>2</td>\n",
              "      <td>2</td>\n",
              "    </tr>\n",
              "    <tr>\n",
              "      <th>1</th>\n",
              "      <td>ham</td>\n",
              "      <td>R U &amp;SAM P IN EACHOTHER. IF WE MEET WE CAN GO ...</td>\n",
              "      <td>0.000000</td>\n",
              "      <td>0.72</td>\n",
              "      <td>0.0</td>\n",
              "      <td>0.017544</td>\n",
              "      <td>r u &amp;sam p in eachother. if we meet we can go ...</td>\n",
              "      <td>39</td>\n",
              "      <td>2</td>\n",
              "      <td>2</td>\n",
              "    </tr>\n",
              "    <tr>\n",
              "      <th>2</th>\n",
              "      <td>ham</td>\n",
              "      <td>No just send to you. Bec you in temple na.</td>\n",
              "      <td>0.674419</td>\n",
              "      <td>0.74</td>\n",
              "      <td>0.0</td>\n",
              "      <td>0.000000</td>\n",
              "      <td>no just send to you. bec you in temple na.</td>\n",
              "      <td>31</td>\n",
              "      <td>2</td>\n",
              "      <td>2</td>\n",
              "    </tr>\n",
              "    <tr>\n",
              "      <th>3</th>\n",
              "      <td>ham</td>\n",
              "      <td>How u doin baby girl ?? hope u are okay every ...</td>\n",
              "      <td>0.693878</td>\n",
              "      <td>0.76</td>\n",
              "      <td>0.0</td>\n",
              "      <td>0.000000</td>\n",
              "      <td>how u doin baby girl ?? hope u are okay every ...</td>\n",
              "      <td>71</td>\n",
              "      <td>3</td>\n",
              "      <td>3</td>\n",
              "    </tr>\n",
              "    <tr>\n",
              "      <th>4</th>\n",
              "      <td>ham</td>\n",
              "      <td>No da:)he is stupid da..always sending like th...</td>\n",
              "      <td>0.747573</td>\n",
              "      <td>0.80</td>\n",
              "      <td>0.0</td>\n",
              "      <td>0.000000</td>\n",
              "      <td>no da:)he is stupid da..always sending like th...</td>\n",
              "      <td>78</td>\n",
              "      <td>1</td>\n",
              "      <td>1</td>\n",
              "    </tr>\n",
              "  </tbody>\n",
              "</table>\n",
              "</div>"
            ],
            "text/plain": [
              "  type  ... num_of_words_per_sentence_avg\n",
              "0  ham  ...                             2\n",
              "1  ham  ...                             2\n",
              "2  ham  ...                             2\n",
              "3  ham  ...                             3\n",
              "4  ham  ...                             1\n",
              "\n",
              "[5 rows x 10 columns]"
            ]
          },
          "metadata": {},
          "execution_count": 14
        }
      ]
    },
    {
      "cell_type": "code",
      "source": [
        "col_name = []\n",
        "for i in train.columns:\n",
        "  col_name.append(i)\n",
        "feature_name = col_name[2:] \n",
        "feature_name.remove(\"normalized\")\n",
        "for f in feature_name:\n",
        "  print(f)"
      ],
      "metadata": {
        "colab": {
          "base_uri": "https://localhost:8080/"
        },
        "id": "2kcAFxuG23gJ",
        "outputId": "7fb83e5b-ea4d-472e-9d7a-8226772f0640"
      },
      "execution_count": 15,
      "outputs": [
        {
          "output_type": "stream",
          "name": "stdout",
          "text": [
            "lowerRatio\n",
            "puctuationRatio\n",
            "hrefRatio\n",
            "numberRatio\n",
            "count_alphabet\n",
            "num_of_sentences\n",
            "num_of_words_per_sentence_avg\n"
          ]
        }
      ]
    },
    {
      "cell_type": "code",
      "source": [
        "spam = train[train['type'] == 'spam']\n",
        "ham = train[train['type'] == 'ham']\n",
        "\n",
        "p  = {}\n",
        "p[\"spam\"] = len(spam) / len(train)\n",
        "p[\"ham\"] = len(ham) / len(train)\n",
        "\n",
        "avg_spam = {}\n",
        "avg_ham = {}\n",
        "for f in feature_name:\n",
        "  avg_spam[f] = spam[f].mean() \n",
        "  avg_ham[f] = ham[f].mean()"
      ],
      "metadata": {
        "id": "77N9pWJlYvO2"
      },
      "execution_count": 16,
      "outputs": []
    },
    {
      "cell_type": "code",
      "source": [
        "print(avg_spam)\n",
        "print(avg_ham)"
      ],
      "metadata": {
        "colab": {
          "base_uri": "https://localhost:8080/"
        },
        "id": "gqqEeYVtn0BW",
        "outputId": "c8382463-daef-4fa0-8cda-26b70ac1ca15"
      },
      "execution_count": 17,
      "outputs": [
        {
          "output_type": "stream",
          "name": "stdout",
          "text": [
            "{'lowerRatio': 0.5579072696931758, 'puctuationRatio': 0.8069927536231878, 'hrefRatio': 0.020000000000000004, 'numberRatio': 0.11481639497881395, 'count_alphabet': 93.42753623188406, 'num_of_sentences': 2.8405797101449277, 'num_of_words_per_sentence_avg': 2.8405797101449277}\n",
            "{'lowerRatio': 0.6767222687958733, 'puctuationRatio': 0.7719338277239017, 'hrefRatio': 3.1374786081003995e-05, 'numberRatio': 0.003926079506578657, 'count_alphabet': 53.625213918996, 'num_of_sentences': 1.7501426126640045, 'num_of_words_per_sentence_avg': 1.7501426126640045}\n"
          ]
        }
      ]
    },
    {
      "cell_type": "code",
      "source": [
        "feature_name"
      ],
      "metadata": {
        "colab": {
          "base_uri": "https://localhost:8080/"
        },
        "id": "7yzs3YMNsPFy",
        "outputId": "032e5644-4fc0-4aaf-b929-897aede7bdda"
      },
      "execution_count": 18,
      "outputs": [
        {
          "output_type": "execute_result",
          "data": {
            "text/plain": [
              "['lowerRatio',\n",
              " 'puctuationRatio',\n",
              " 'hrefRatio',\n",
              " 'numberRatio',\n",
              " 'count_alphabet',\n",
              " 'num_of_sentences',\n",
              " 'num_of_words_per_sentence_avg']"
            ]
          },
          "metadata": {},
          "execution_count": 18
        }
      ]
    },
    {
      "cell_type": "code",
      "source": [
        "def input_normalizer_(text):\n",
        "  lowerRatio = lower_ratio(text)\n",
        "  puctuationRatio = punctuation_ration(text)\n",
        "  hrefRatio = href_ratio(text)\n",
        "  numberRatio = number_ratio(text)\n",
        "  normalized = text.lower()\n",
        "  normalized = remove_whitespace(normalized)\n",
        "  count_alphabet_ = count_alphabet(normalized)\n",
        "  num_of_sentences_ = num_of_sentences(normalized)\n",
        "  num_of_words_per_sentence_avg = num_of_sentences(normalized)\n",
        "\n",
        "  return {'lowerRatio':lowerRatio,'puctuationRatio':puctuationRatio,'hrefRatio':hrefRatio,\n",
        "          'numberRatio':numberRatio,'count_alphabet':count_alphabet_,'num_of_sentences':num_of_sentences_,\n",
        "          'num_of_words_per_sentence_avg':num_of_words_per_sentence_avg}\n",
        "\n",
        "# # train = org_train\n",
        "\n",
        "# sent_norm = input_normalizer_(sentence)\n",
        "# sent_norm['count_alphabet']"
      ],
      "metadata": {
        "id": "3DzL3gp4o04W"
      },
      "execution_count": 19,
      "outputs": []
    },
    {
      "cell_type": "code",
      "source": [
        ""
      ],
      "metadata": {
        "id": "xwbx39EDrcuS"
      },
      "execution_count": 19,
      "outputs": []
    },
    {
      "cell_type": "code",
      "source": [
        "def classify_test_set_(sentence,keys = ''):\n",
        "   sent_norm = input_normalizer_(sentence)\n",
        "\n",
        "   ps = p[\"spam\"] \n",
        "   ph = p[\"ham\"]\n",
        "  #  print(ps,ph)\n",
        "   if keys == '':\n",
        "     keys = sent_norm.keys()\n",
        "   for key in keys:\n",
        "         difs = abs(sent_norm[key]-avg_spam[key]) + 0.1\n",
        "         difh = abs(sent_norm[key]-avg_ham[key])  + 0.1\n",
        "         sumdif = difs + difh \n",
        "         ps *= (difh/sumdif)\n",
        "         ph *= (difs/sumdif)\n",
        "         pst = ps\n",
        "         ps = ps/(ps+ph)\n",
        "         ph = ph/(pst+ph)\n",
        "  #  print(ps,ph)\n",
        "   if ph >= ps:\n",
        "      return 'ham'\n",
        "   else:\n",
        "      return 'spam'"
      ],
      "metadata": {
        "id": "YMbhXFuUYvO3"
      },
      "execution_count": 46,
      "outputs": []
    },
    {
      "cell_type": "code",
      "source": [
        "test['predicted'] = test['text'].apply(classify_test_set_)\n",
        "# test.head()"
      ],
      "metadata": {
        "id": "HcoP9PcwYvO3"
      },
      "execution_count": 47,
      "outputs": []
    },
    {
      "cell_type": "code",
      "source": [
        "correct = 0\n",
        "total = test.shape[0]\n",
        "\n",
        "tp= fp= tn= fn= 0\n",
        "for row in test.iterrows():\n",
        "  row = row[1]\n",
        "  if row['type'] == row['predicted']:\n",
        "      correct += 1\n",
        "  if row['type'] == 'ham':\n",
        "    if row['predicted'] == 'ham':\n",
        "        tp+=1\n",
        "    else:\n",
        "        fn+=1\n",
        "  else:\n",
        "    if row['predicted'] == 'ham':\n",
        "        fp+=1\n",
        "    else:\n",
        "        tn+=1\n",
        "\n",
        "print('Correct:', correct)\n",
        "print('Incorrect:', total - correct)\n",
        "print('Accuracy:', correct/total)\n",
        "print(tp,fp,tn,fn)"
      ],
      "metadata": {
        "colab": {
          "base_uri": "https://localhost:8080/"
        },
        "outputId": "bf836a4e-6a1c-4706-dce5-f56993f2c996",
        "id": "Uvs8UX3WYvO3"
      },
      "execution_count": 48,
      "outputs": [
        {
          "output_type": "stream",
          "name": "stdout",
          "text": [
            "Correct: 909\n",
            "Incorrect: 105\n",
            "Accuracy: 0.8964497041420119\n",
            "835 50 74 55\n"
          ]
        }
      ]
    },
    {
      "cell_type": "markdown",
      "source": [
        "# eva;"
      ],
      "metadata": {
        "id": "c8Yp6_-65zu-"
      }
    },
    {
      "cell_type": "code",
      "source": [
        "eval = pd.read_csv('evaluate.csv')\n",
        "eval.head()"
      ],
      "metadata": {
        "colab": {
          "base_uri": "https://localhost:8080/",
          "height": 206
        },
        "outputId": "2251f2cf-0dbd-4783-ee40-afa390f7c5c9",
        "id": "hMosCzF4YvO4"
      },
      "execution_count": 49,
      "outputs": [
        {
          "output_type": "execute_result",
          "data": {
            "text/html": [
              "<div>\n",
              "<style scoped>\n",
              "    .dataframe tbody tr th:only-of-type {\n",
              "        vertical-align: middle;\n",
              "    }\n",
              "\n",
              "    .dataframe tbody tr th {\n",
              "        vertical-align: top;\n",
              "    }\n",
              "\n",
              "    .dataframe thead th {\n",
              "        text-align: right;\n",
              "    }\n",
              "</style>\n",
              "<table border=\"1\" class=\"dataframe\">\n",
              "  <thead>\n",
              "    <tr style=\"text-align: right;\">\n",
              "      <th></th>\n",
              "      <th>id</th>\n",
              "      <th>text</th>\n",
              "    </tr>\n",
              "  </thead>\n",
              "  <tbody>\n",
              "    <tr>\n",
              "      <th>0</th>\n",
              "      <td>1</td>\n",
              "      <td>Go until jurong point, crazy.. Available only ...</td>\n",
              "    </tr>\n",
              "    <tr>\n",
              "      <th>1</th>\n",
              "      <td>2</td>\n",
              "      <td>Ok lar... Joking wif u oni...</td>\n",
              "    </tr>\n",
              "    <tr>\n",
              "      <th>2</th>\n",
              "      <td>3</td>\n",
              "      <td>Free entry in 2 a wkly comp to win FA Cup fina...</td>\n",
              "    </tr>\n",
              "    <tr>\n",
              "      <th>3</th>\n",
              "      <td>4</td>\n",
              "      <td>U dun say so early hor... U c already then say...</td>\n",
              "    </tr>\n",
              "    <tr>\n",
              "      <th>4</th>\n",
              "      <td>5</td>\n",
              "      <td>Nah I don't think he goes to usf, he lives aro...</td>\n",
              "    </tr>\n",
              "  </tbody>\n",
              "</table>\n",
              "</div>"
            ],
            "text/plain": [
              "   id                                               text\n",
              "0   1  Go until jurong point, crazy.. Available only ...\n",
              "1   2                      Ok lar... Joking wif u oni...\n",
              "2   3  Free entry in 2 a wkly comp to win FA Cup fina...\n",
              "3   4  U dun say so early hor... U c already then say...\n",
              "4   5  Nah I don't think he goes to usf, he lives aro..."
            ]
          },
          "metadata": {},
          "execution_count": 49
        }
      ]
    },
    {
      "cell_type": "code",
      "source": [
        "eval['predicted'] = eval['text'].apply(classify_test_set_)\n",
        "eval.head()"
      ],
      "metadata": {
        "colab": {
          "base_uri": "https://localhost:8080/",
          "height": 206
        },
        "outputId": "d3d4c84e-7f40-4b7f-ecde-4a607718dd72",
        "id": "EkhZ55SrYvO4"
      },
      "execution_count": 50,
      "outputs": [
        {
          "output_type": "execute_result",
          "data": {
            "text/html": [
              "<div>\n",
              "<style scoped>\n",
              "    .dataframe tbody tr th:only-of-type {\n",
              "        vertical-align: middle;\n",
              "    }\n",
              "\n",
              "    .dataframe tbody tr th {\n",
              "        vertical-align: top;\n",
              "    }\n",
              "\n",
              "    .dataframe thead th {\n",
              "        text-align: right;\n",
              "    }\n",
              "</style>\n",
              "<table border=\"1\" class=\"dataframe\">\n",
              "  <thead>\n",
              "    <tr style=\"text-align: right;\">\n",
              "      <th></th>\n",
              "      <th>id</th>\n",
              "      <th>text</th>\n",
              "      <th>predicted</th>\n",
              "    </tr>\n",
              "  </thead>\n",
              "  <tbody>\n",
              "    <tr>\n",
              "      <th>0</th>\n",
              "      <td>1</td>\n",
              "      <td>Go until jurong point, crazy.. Available only ...</td>\n",
              "      <td>ham</td>\n",
              "    </tr>\n",
              "    <tr>\n",
              "      <th>1</th>\n",
              "      <td>2</td>\n",
              "      <td>Ok lar... Joking wif u oni...</td>\n",
              "      <td>ham</td>\n",
              "    </tr>\n",
              "    <tr>\n",
              "      <th>2</th>\n",
              "      <td>3</td>\n",
              "      <td>Free entry in 2 a wkly comp to win FA Cup fina...</td>\n",
              "      <td>ham</td>\n",
              "    </tr>\n",
              "    <tr>\n",
              "      <th>3</th>\n",
              "      <td>4</td>\n",
              "      <td>U dun say so early hor... U c already then say...</td>\n",
              "      <td>ham</td>\n",
              "    </tr>\n",
              "    <tr>\n",
              "      <th>4</th>\n",
              "      <td>5</td>\n",
              "      <td>Nah I don't think he goes to usf, he lives aro...</td>\n",
              "      <td>ham</td>\n",
              "    </tr>\n",
              "  </tbody>\n",
              "</table>\n",
              "</div>"
            ],
            "text/plain": [
              "   id                                               text predicted\n",
              "0   1  Go until jurong point, crazy.. Available only ...       ham\n",
              "1   2                      Ok lar... Joking wif u oni...       ham\n",
              "2   3  Free entry in 2 a wkly comp to win FA Cup fina...       ham\n",
              "3   4  U dun say so early hor... U c already then say...       ham\n",
              "4   5  Nah I don't think he goes to usf, he lives aro...       ham"
            ]
          },
          "metadata": {},
          "execution_count": 50
        }
      ]
    },
    {
      "cell_type": "code",
      "source": [
        "del eval['text']\n",
        "eval = eval.rename(columns={\"predicted\": \"type\"})\n",
        "eval.head()"
      ],
      "metadata": {
        "colab": {
          "base_uri": "https://localhost:8080/",
          "height": 206
        },
        "outputId": "a8dea7c1-f442-443d-92c1-5f52db1653d7",
        "id": "eOxKFAzTYvO4"
      },
      "execution_count": 51,
      "outputs": [
        {
          "output_type": "execute_result",
          "data": {
            "text/html": [
              "<div>\n",
              "<style scoped>\n",
              "    .dataframe tbody tr th:only-of-type {\n",
              "        vertical-align: middle;\n",
              "    }\n",
              "\n",
              "    .dataframe tbody tr th {\n",
              "        vertical-align: top;\n",
              "    }\n",
              "\n",
              "    .dataframe thead th {\n",
              "        text-align: right;\n",
              "    }\n",
              "</style>\n",
              "<table border=\"1\" class=\"dataframe\">\n",
              "  <thead>\n",
              "    <tr style=\"text-align: right;\">\n",
              "      <th></th>\n",
              "      <th>id</th>\n",
              "      <th>type</th>\n",
              "    </tr>\n",
              "  </thead>\n",
              "  <tbody>\n",
              "    <tr>\n",
              "      <th>0</th>\n",
              "      <td>1</td>\n",
              "      <td>ham</td>\n",
              "    </tr>\n",
              "    <tr>\n",
              "      <th>1</th>\n",
              "      <td>2</td>\n",
              "      <td>ham</td>\n",
              "    </tr>\n",
              "    <tr>\n",
              "      <th>2</th>\n",
              "      <td>3</td>\n",
              "      <td>ham</td>\n",
              "    </tr>\n",
              "    <tr>\n",
              "      <th>3</th>\n",
              "      <td>4</td>\n",
              "      <td>ham</td>\n",
              "    </tr>\n",
              "    <tr>\n",
              "      <th>4</th>\n",
              "      <td>5</td>\n",
              "      <td>ham</td>\n",
              "    </tr>\n",
              "  </tbody>\n",
              "</table>\n",
              "</div>"
            ],
            "text/plain": [
              "   id type\n",
              "0   1  ham\n",
              "1   2  ham\n",
              "2   3  ham\n",
              "3   4  ham\n",
              "4   5  ham"
            ]
          },
          "metadata": {},
          "execution_count": 51
        }
      ]
    },
    {
      "cell_type": "code",
      "source": [
        "eval.to_csv('eval.csv',index=False)\n"
      ],
      "metadata": {
        "id": "fas4XII5YvO4"
      },
      "execution_count": 52,
      "outputs": []
    },
    {
      "cell_type": "code",
      "source": [
        "from google.colab import files\n",
        "files.download('eval.csv') "
      ],
      "metadata": {
        "colab": {
          "base_uri": "https://localhost:8080/",
          "height": 17
        },
        "outputId": "d9d4da42-ff28-44f1-866e-dbe78b67b206",
        "id": "WpxcPLcsYvO4"
      },
      "execution_count": 53,
      "outputs": [
        {
          "output_type": "display_data",
          "data": {
            "application/javascript": [
              "\n",
              "    async function download(id, filename, size) {\n",
              "      if (!google.colab.kernel.accessAllowed) {\n",
              "        return;\n",
              "      }\n",
              "      const div = document.createElement('div');\n",
              "      const label = document.createElement('label');\n",
              "      label.textContent = `Downloading \"${filename}\": `;\n",
              "      div.appendChild(label);\n",
              "      const progress = document.createElement('progress');\n",
              "      progress.max = size;\n",
              "      div.appendChild(progress);\n",
              "      document.body.appendChild(div);\n",
              "\n",
              "      const buffers = [];\n",
              "      let downloaded = 0;\n",
              "\n",
              "      const channel = await google.colab.kernel.comms.open(id);\n",
              "      // Send a message to notify the kernel that we're ready.\n",
              "      channel.send({})\n",
              "\n",
              "      for await (const message of channel.messages) {\n",
              "        // Send a message to notify the kernel that we're ready.\n",
              "        channel.send({})\n",
              "        if (message.buffers) {\n",
              "          for (const buffer of message.buffers) {\n",
              "            buffers.push(buffer);\n",
              "            downloaded += buffer.byteLength;\n",
              "            progress.value = downloaded;\n",
              "          }\n",
              "        }\n",
              "      }\n",
              "      const blob = new Blob(buffers, {type: 'application/binary'});\n",
              "      const a = document.createElement('a');\n",
              "      a.href = window.URL.createObjectURL(blob);\n",
              "      a.download = filename;\n",
              "      div.appendChild(a);\n",
              "      a.click();\n",
              "      div.remove();\n",
              "    }\n",
              "  "
            ],
            "text/plain": [
              "<IPython.core.display.Javascript object>"
            ]
          },
          "metadata": {}
        },
        {
          "output_type": "display_data",
          "data": {
            "application/javascript": [
              "download(\"download_1b8aadb0-5d0c-477d-95bd-cc981651bb85\", \"eval.csv\", 3963)"
            ],
            "text/plain": [
              "<IPython.core.display.Javascript object>"
            ]
          },
          "metadata": {}
        }
      ]
    },
    {
      "cell_type": "markdown",
      "source": [
        "# Draw charts:"
      ],
      "metadata": {
        "id": "bjGQshq6hWxE"
      }
    },
    {
      "cell_type": "code",
      "source": [
        "spamlist = []\n",
        "hamlist = []\n",
        "for f in feature_name:\n",
        "   s = spam[f].mean()\n",
        "   h = ham[f].mean()\n",
        "   if s+h == 0:\n",
        "     spamlist.append(0.5)\n",
        "     hamlist.append(0.5)\n",
        "   else:\n",
        "     spamlist.append(s/(s+h))\n",
        "     hamlist.append(h/(s+h))"
      ],
      "metadata": {
        "id": "fIL7KSdbhVoJ"
      },
      "execution_count": 54,
      "outputs": []
    },
    {
      "cell_type": "code",
      "source": [
        "import matplotlib.pyplot as plt\n"
      ],
      "metadata": {
        "id": "tyaLzQJLh10B"
      },
      "execution_count": 55,
      "outputs": []
    },
    {
      "cell_type": "code",
      "source": [
        "f = plt.figure()\n",
        "f.set_figwidth(12)\n",
        "f.set_figheight(4)\n",
        "\n",
        "x = feature_name\n",
        "plt.plot(x,spamlist)\n",
        "plt.plot(x,hamlist)\n",
        "plt.scatter(x,spamlist)\n",
        "plt.scatter(x,hamlist)\n",
        "plt.xticks(rotation=45)\n",
        "plt.show()"
      ],
      "metadata": {
        "colab": {
          "base_uri": "https://localhost:8080/",
          "height": 381
        },
        "id": "qlWrYooDi1V1",
        "outputId": "0f7c4678-5d67-471b-e543-e9b25b69538b"
      },
      "execution_count": 56,
      "outputs": [
        {
          "output_type": "display_data",
          "data": {
            "image/png": "[encoded data removed]",
            "text/plain": [
              "<Figure size 864x288 with 1 Axes>"
            ]
          },
          "metadata": {
            "needs_background": "light"
          }
        }
      ]
    },
    {
      "cell_type": "markdown",
      "source": [
        "# confusion matrix and etc."
      ],
      "metadata": {
        "id": "sCewrmY9jInb"
      }
    },
    {
      "cell_type": "markdown",
      "source": [
        "pos = 'ham' <br>\n",
        "neg = 'spam'"
      ],
      "metadata": {
        "id": "QB0cYQix4o1T"
      }
    },
    {
      "cell_type": "code",
      "source": [
        "correct = 0\n",
        "total = test.shape[0]\n",
        "tp=fp=tn=fn =0\n",
        "for row in test.iterrows():\n",
        "   row = row[1]\n",
        "   if row['type'] == row['predicted']:\n",
        "      correct += 1\n",
        "   if row['type'] == 'ham':\n",
        "     if row['predicted'] == 'ham':\n",
        "        tp+=1\n",
        "     else:\n",
        "        fn+=1\n",
        "   else:\n",
        "     if row['predicted'] == 'ham':\n",
        "        fp+=1\n",
        "     else:\n",
        "        tn+=1\n",
        "print('tp=',tp,'fp=',fp,'tn=',tn,'fn=',fn)\n",
        "print('Correct:', correct)\n",
        "print('Incorrect:', total - correct)\n",
        "print('Accuracy:', correct/total)"
      ],
      "metadata": {
        "colab": {
          "base_uri": "https://localhost:8080/"
        },
        "id": "8HGuTjg-i9xK",
        "outputId": "e4b62052-df9a-4be3-b8f3-98efad588bbf"
      },
      "execution_count": 57,
      "outputs": [
        {
          "output_type": "stream",
          "name": "stdout",
          "text": [
            "tp= 835 fp= 50 tn= 74 fn= 55\n",
            "Correct: 909\n",
            "Incorrect: 105\n",
            "Accuracy: 0.8964497041420119\n"
          ]
        }
      ]
    },
    {
      "cell_type": "code",
      "source": [
        "import seaborn as sn\n",
        "import pandas as pd\n",
        "import matplotlib.pyplot as plt\n",
        "\n",
        "sum_ = tp+fp+tn+fn\n",
        "array = [[tp/sum_,fp/sum_],[tn/sum_,fn/sum_]] \n",
        "\n",
        "df_cm = pd.DataFrame(array, ['p','n'], ['t','f'])\n",
        "sn.heatmap(df_cm, annot=True, annot_kws={\"size\": 16} , cmap=\"BuPu\" , vmin=0.001, vmax=1)\n",
        "\n",
        "plt.show()"
      ],
      "metadata": {
        "colab": {
          "base_uri": "https://localhost:8080/",
          "height": 269
        },
        "id": "8zMxk9mwkcvF",
        "outputId": "41038a2b-ad8e-4b5d-bf54-a0a327bcf798"
      },
      "execution_count": 58,
      "outputs": [
        {
          "output_type": "display_data",
          "data": {
            "image/png": "[encoded data removed]",
            "text/plain": [
              "<Figure size 432x288 with 2 Axes>"
            ]
          },
          "metadata": {
            "needs_background": "light"
          }
        }
      ]
    },
    {
      "cell_type": "markdown",
      "source": [
        "![image.png](data:image/png;base64,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)"
      ],
      "metadata": {
        "id": "r3mauhDu83NX"
      }
    },
    {
      "cell_type": "code",
      "source": [
        "precision = tp / (tp+fp)\n",
        "recall = tp / (tp+fn)\n",
        "acc = (tp + tn) / (tp+tn+fp+fn)\n",
        "f1score = 2 * precision * recall / (precision + recall)"
      ],
      "metadata": {
        "id": "uV14nVRf5TdZ"
      },
      "execution_count": 59,
      "outputs": []
    },
    {
      "cell_type": "code",
      "source": [
        "print(precision,recall,acc,f1score)"
      ],
      "metadata": {
        "colab": {
          "base_uri": "https://localhost:8080/"
        },
        "id": "CjeKF-NN9Qzt",
        "outputId": "8d7fcec0-6df4-400b-f22b-c300cc8610e7"
      },
      "execution_count": 60,
      "outputs": [
        {
          "output_type": "stream",
          "name": "stdout",
          "text": [
            "0.943502824858757 0.9382022471910112 0.8964497041420119 0.9408450704225352\n"
          ]
        }
      ]
    },
    {
      "cell_type": "markdown",
      "source": [
        "# ignore punctuationratio"
      ],
      "metadata": {
        "id": "uHki1akQBTzz"
      }
    },
    {
      "cell_type": "code",
      "source": [
        "feature_name2 = ['lowerRatio', 'hrefRatio', 'numberRatio', 'count_alphabet', 'num_of_sentences', 'num_of_words_per_sentence_avg']"
      ],
      "metadata": {
        "id": "mdO8pqkTCzwp"
      },
      "execution_count": 61,
      "outputs": []
    },
    {
      "cell_type": "code",
      "source": [
        "def classify_test_set_2(sentence,keys = ''):\n",
        "   sent_norm = input_normalizer_(sentence)\n",
        "\n",
        "   ps = p[\"spam\"] \n",
        "   ph = p[\"ham\"]\n",
        "  #  print(ps,ph)\n",
        "   keys =  ['lowerRatio', 'hrefRatio', 'numberRatio', 'count_alphabet', 'num_of_sentences', 'num_of_words_per_sentence_avg']\n",
        "   for key in keys:\n",
        "         difs = abs(sent_norm[key]-avg_spam[key]) + 0.1\n",
        "         difh = abs(sent_norm[key]-avg_ham[key])  + 0.1\n",
        "         sumdif = difs + difh \n",
        "         ps *= (difh/sumdif)\n",
        "         ph *= (difs/sumdif)\n",
        "         pst = ps\n",
        "         ps = ps/(ps+ph)\n",
        "         ph = ph/(pst+ph)\n",
        "  #  print(ps,ph)\n",
        "   if ph >= ps:\n",
        "      return 'ham'\n",
        "   else:\n",
        "      return 'spam'"
      ],
      "metadata": {
        "id": "jRqqf-sfEKCN"
      },
      "execution_count": 65,
      "outputs": []
    },
    {
      "cell_type": "code",
      "source": [
        "spamlist = []\n",
        "hamlist = []\n",
        "for f in feature_name2:\n",
        "   s = spam[f].mean()\n",
        "   h = ham[f].mean()\n",
        "   if s+h == 0:\n",
        "     spamlist.append(0.5)\n",
        "     hamlist.append(0.5)\n",
        "   else:\n",
        "     spamlist.append(s/(s+h))\n",
        "     hamlist.append(h/(s+h))"
      ],
      "metadata": {
        "id": "ropZtKA2BGne"
      },
      "execution_count": 66,
      "outputs": []
    },
    {
      "cell_type": "code",
      "source": [
        "test['predicted'] = test['text'].apply(classify_test_set_2)"
      ],
      "metadata": {
        "id": "qxIZVaLaDja-"
      },
      "execution_count": 67,
      "outputs": []
    },
    {
      "cell_type": "code",
      "source": [
        "correct = 0\n",
        "total = test.shape[0]\n",
        "tp=fp=tn=fn =0\n",
        "for row in test.iterrows():\n",
        "   row = row[1]\n",
        "   if row['type'] == row['predicted']:\n",
        "      correct += 1\n",
        "   if row['type'] == 'ham':\n",
        "     if row['predicted'] == 'ham':\n",
        "        tp+=1\n",
        "     else:\n",
        "        fn+=1\n",
        "   else:\n",
        "     if row['predicted'] == 'ham':\n",
        "        fp+=1\n",
        "     else:\n",
        "        tn+=1\n",
        "print('tp=',tp,'fp=',fp,'tn=',tn,'fn=',fn)\n",
        "print('Correct:', correct)\n",
        "print('Incorrect:', total - correct)\n",
        "print('Accuracy:', correct/total)"
      ],
      "metadata": {
        "colab": {
          "base_uri": "https://localhost:8080/"
        },
        "id": "5pffyJ3wCutr",
        "outputId": "12583947-79f7-4b04-f622-f43316c97535"
      },
      "execution_count": 68,
      "outputs": [
        {
          "output_type": "stream",
          "name": "stdout",
          "text": [
            "tp= 836 fp= 53 tn= 71 fn= 54\n",
            "Correct: 907\n",
            "Incorrect: 107\n",
            "Accuracy: 0.8944773175542406\n"
          ]
        }
      ]
    }
  ]
}